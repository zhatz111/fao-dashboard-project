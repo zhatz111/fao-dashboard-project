{
 "cells": [
  {
   "cell_type": "code",
   "execution_count": 2,
   "metadata": {},
   "outputs": [],
   "source": [
    "from fredapi import Fred\n",
    "fred = Fred(api_key='4398d29f840b7d11a359a221c5f57d86')\n",
    "data = fred.get_series('SP500')"
   ]
  },
  {
   "cell_type": "code",
   "execution_count": 3,
   "metadata": {},
   "outputs": [
    {
     "data": {
      "text/plain": [
       "2013-11-18    1791.53\n",
       "2013-11-19    1787.87\n",
       "2013-11-20    1781.37\n",
       "2013-11-21    1795.85\n",
       "2013-11-22    1804.76\n",
       "               ...   \n",
       "2023-11-09    4347.35\n",
       "2023-11-10    4415.24\n",
       "2023-11-13    4411.55\n",
       "2023-11-14    4495.70\n",
       "2023-11-15    4502.88\n",
       "Length: 2608, dtype: float64"
      ]
     },
     "execution_count": 3,
     "metadata": {},
     "output_type": "execute_result"
    }
   ],
   "source": [
    "data"
   ]
  },
  {
   "cell_type": "code",
   "execution_count": null,
   "metadata": {},
   "outputs": [],
   "source": []
  }
 ],
 "metadata": {
  "kernelspec": {
   "display_name": ".venv",
   "language": "python",
   "name": "python3"
  },
  "language_info": {
   "codemirror_mode": {
    "name": "ipython",
    "version": 3
   },
   "file_extension": ".py",
   "mimetype": "text/x-python",
   "name": "python",
   "nbconvert_exporter": "python",
   "pygments_lexer": "ipython3",
   "version": "3.11.4"
  }
 },
 "nbformat": 4,
 "nbformat_minor": 2
}
